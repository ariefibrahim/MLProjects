{
  "nbformat": 4,
  "nbformat_minor": 0,
  "metadata": {
    "colab": {
      "name": "Classification Project 01.ipynb",
      "version": "0.3.2",
      "provenance": [],
      "include_colab_link": true
    },
    "kernelspec": {
      "name": "python3",
      "display_name": "Python 3"
    },
    "accelerator": "GPU"
  },
  "cells": [
    {
      "cell_type": "markdown",
      "metadata": {
        "id": "view-in-github",
        "colab_type": "text"
      },
      "source": [
        "<a href=\"https://colab.research.google.com/github/ariefibrahim/MLProjects/blob/master/Classification_Project_01.ipynb\" target=\"_parent\"><img src=\"https://colab.research.google.com/assets/colab-badge.svg\" alt=\"Open In Colab\"/></a>"
      ]
    },
    {
      "cell_type": "code",
      "metadata": {
        "id": "hwOBDinOsas8",
        "colab_type": "code",
        "colab": {}
      },
      "source": [
        "# Load libraries\n",
        "import pandas as pd  \n",
        "import seaborn as sns \n",
        "import numpy as np\n",
        "import matplotlib.pyplot as plt\n",
        "from pandas import read_csv\n",
        "from pandas import set_option\n",
        "#from pandas.tools.plotting import scatter_matrix\n",
        "from sklearn.preprocessing import StandardScaler\n",
        "from sklearn.model_selection import train_test_split\n",
        "from sklearn.model_selection import KFold\n",
        "from sklearn.model_selection import cross_val_score\n",
        "from sklearn.model_selection import GridSearchCV\n",
        "from sklearn.metrics import classification_report\n",
        "from sklearn.metrics import confusion_matrix\n",
        "from sklearn.metrics import accuracy_score\n",
        "from sklearn.pipeline import Pipeline\n",
        "from sklearn.linear_model import LogisticRegression\n",
        "from sklearn.tree import DecisionTreeClassifier\n",
        "from sklearn.neighbors import KNeighborsClassifier\n",
        "from sklearn.discriminant_analysis import LinearDiscriminantAnalysis\n",
        "from sklearn.naive_bayes import GaussianNB\n",
        "from sklearn.svm import SVC\n",
        "from sklearn.ensemble import AdaBoostClassifier\n",
        "from sklearn.ensemble import GradientBoostingClassifier\n",
        "from sklearn.ensemble import RandomForestClassifier\n",
        "from sklearn.ensemble import ExtraTreesClassifier\n",
        "from sklearn import datasets"
      ],
      "execution_count": 0,
      "outputs": []
    },
    {
      "cell_type": "code",
      "metadata": {
        "id": "iu50Fm7Cy24_",
        "colab_type": "code",
        "colab": {}
      },
      "source": [
        "sns.set(rc={'figure.figsize':(11.7,8.27)})"
      ],
      "execution_count": 0,
      "outputs": []
    },
    {
      "cell_type": "code",
      "metadata": {
        "id": "elANPPh5s8g2",
        "colab_type": "code",
        "colab": {}
      },
      "source": [
        "B_cancer = datasets.load_breast_cancer()"
      ],
      "execution_count": 0,
      "outputs": []
    },
    {
      "cell_type": "code",
      "metadata": {
        "id": "5UzOZPCOt9kc",
        "colab_type": "code",
        "colab": {}
      },
      "source": [
        "# Create feature matrix\n",
        "X = pd.DataFrame(B_cancer.data, columns=B_cancer.feature_names)\n",
        "\n",
        "# Create target vector\n",
        "y = pd.DataFrame(B_cancer.target, columns=['B_cancer_class'])"
      ],
      "execution_count": 0,
      "outputs": []
    },
    {
      "cell_type": "code",
      "metadata": {
        "id": "GKO1JHJouC5B",
        "colab_type": "code",
        "colab": {
          "base_uri": "https://localhost:8080/",
          "height": 349
        },
        "outputId": "0eeb6acc-fd03-4869-a3ae-835899d2ab12"
      },
      "source": [
        "X.describe()"
      ],
      "execution_count": 23,
      "outputs": [
        {
          "output_type": "execute_result",
          "data": {
            "text/html": [
              "<div>\n",
              "<style scoped>\n",
              "    .dataframe tbody tr th:only-of-type {\n",
              "        vertical-align: middle;\n",
              "    }\n",
              "\n",
              "    .dataframe tbody tr th {\n",
              "        vertical-align: top;\n",
              "    }\n",
              "\n",
              "    .dataframe thead th {\n",
              "        text-align: right;\n",
              "    }\n",
              "</style>\n",
              "<table border=\"1\" class=\"dataframe\">\n",
              "  <thead>\n",
              "    <tr style=\"text-align: right;\">\n",
              "      <th></th>\n",
              "      <th>mean radius</th>\n",
              "      <th>mean texture</th>\n",
              "      <th>mean perimeter</th>\n",
              "      <th>mean area</th>\n",
              "      <th>mean smoothness</th>\n",
              "      <th>mean compactness</th>\n",
              "      <th>mean concavity</th>\n",
              "      <th>mean concave points</th>\n",
              "      <th>mean symmetry</th>\n",
              "      <th>mean fractal dimension</th>\n",
              "      <th>radius error</th>\n",
              "      <th>texture error</th>\n",
              "      <th>perimeter error</th>\n",
              "      <th>area error</th>\n",
              "      <th>smoothness error</th>\n",
              "      <th>compactness error</th>\n",
              "      <th>concavity error</th>\n",
              "      <th>concave points error</th>\n",
              "      <th>symmetry error</th>\n",
              "      <th>fractal dimension error</th>\n",
              "      <th>worst radius</th>\n",
              "      <th>worst texture</th>\n",
              "      <th>worst perimeter</th>\n",
              "      <th>worst area</th>\n",
              "      <th>worst smoothness</th>\n",
              "      <th>worst compactness</th>\n",
              "      <th>worst concavity</th>\n",
              "      <th>worst concave points</th>\n",
              "      <th>worst symmetry</th>\n",
              "      <th>worst fractal dimension</th>\n",
              "    </tr>\n",
              "  </thead>\n",
              "  <tbody>\n",
              "    <tr>\n",
              "      <th>count</th>\n",
              "      <td>569.000000</td>\n",
              "      <td>569.000000</td>\n",
              "      <td>569.000000</td>\n",
              "      <td>569.000000</td>\n",
              "      <td>569.000000</td>\n",
              "      <td>569.000000</td>\n",
              "      <td>569.000000</td>\n",
              "      <td>569.000000</td>\n",
              "      <td>569.000000</td>\n",
              "      <td>569.000000</td>\n",
              "      <td>569.000000</td>\n",
              "      <td>569.000000</td>\n",
              "      <td>569.000000</td>\n",
              "      <td>569.000000</td>\n",
              "      <td>569.000000</td>\n",
              "      <td>569.000000</td>\n",
              "      <td>569.000000</td>\n",
              "      <td>569.000000</td>\n",
              "      <td>569.000000</td>\n",
              "      <td>569.000000</td>\n",
              "      <td>569.000000</td>\n",
              "      <td>569.000000</td>\n",
              "      <td>569.000000</td>\n",
              "      <td>569.000000</td>\n",
              "      <td>569.000000</td>\n",
              "      <td>569.000000</td>\n",
              "      <td>569.000000</td>\n",
              "      <td>569.000000</td>\n",
              "      <td>569.000000</td>\n",
              "      <td>569.000000</td>\n",
              "    </tr>\n",
              "    <tr>\n",
              "      <th>mean</th>\n",
              "      <td>14.127292</td>\n",
              "      <td>19.289649</td>\n",
              "      <td>91.969033</td>\n",
              "      <td>654.889104</td>\n",
              "      <td>0.096360</td>\n",
              "      <td>0.104341</td>\n",
              "      <td>0.088799</td>\n",
              "      <td>0.048919</td>\n",
              "      <td>0.181162</td>\n",
              "      <td>0.062798</td>\n",
              "      <td>0.405172</td>\n",
              "      <td>1.216853</td>\n",
              "      <td>2.866059</td>\n",
              "      <td>40.337079</td>\n",
              "      <td>0.007041</td>\n",
              "      <td>0.025478</td>\n",
              "      <td>0.031894</td>\n",
              "      <td>0.011796</td>\n",
              "      <td>0.020542</td>\n",
              "      <td>0.003795</td>\n",
              "      <td>16.269190</td>\n",
              "      <td>25.677223</td>\n",
              "      <td>107.261213</td>\n",
              "      <td>880.583128</td>\n",
              "      <td>0.132369</td>\n",
              "      <td>0.254265</td>\n",
              "      <td>0.272188</td>\n",
              "      <td>0.114606</td>\n",
              "      <td>0.290076</td>\n",
              "      <td>0.083946</td>\n",
              "    </tr>\n",
              "    <tr>\n",
              "      <th>std</th>\n",
              "      <td>3.524049</td>\n",
              "      <td>4.301036</td>\n",
              "      <td>24.298981</td>\n",
              "      <td>351.914129</td>\n",
              "      <td>0.014064</td>\n",
              "      <td>0.052813</td>\n",
              "      <td>0.079720</td>\n",
              "      <td>0.038803</td>\n",
              "      <td>0.027414</td>\n",
              "      <td>0.007060</td>\n",
              "      <td>0.277313</td>\n",
              "      <td>0.551648</td>\n",
              "      <td>2.021855</td>\n",
              "      <td>45.491006</td>\n",
              "      <td>0.003003</td>\n",
              "      <td>0.017908</td>\n",
              "      <td>0.030186</td>\n",
              "      <td>0.006170</td>\n",
              "      <td>0.008266</td>\n",
              "      <td>0.002646</td>\n",
              "      <td>4.833242</td>\n",
              "      <td>6.146258</td>\n",
              "      <td>33.602542</td>\n",
              "      <td>569.356993</td>\n",
              "      <td>0.022832</td>\n",
              "      <td>0.157336</td>\n",
              "      <td>0.208624</td>\n",
              "      <td>0.065732</td>\n",
              "      <td>0.061867</td>\n",
              "      <td>0.018061</td>\n",
              "    </tr>\n",
              "    <tr>\n",
              "      <th>min</th>\n",
              "      <td>6.981000</td>\n",
              "      <td>9.710000</td>\n",
              "      <td>43.790000</td>\n",
              "      <td>143.500000</td>\n",
              "      <td>0.052630</td>\n",
              "      <td>0.019380</td>\n",
              "      <td>0.000000</td>\n",
              "      <td>0.000000</td>\n",
              "      <td>0.106000</td>\n",
              "      <td>0.049960</td>\n",
              "      <td>0.111500</td>\n",
              "      <td>0.360200</td>\n",
              "      <td>0.757000</td>\n",
              "      <td>6.802000</td>\n",
              "      <td>0.001713</td>\n",
              "      <td>0.002252</td>\n",
              "      <td>0.000000</td>\n",
              "      <td>0.000000</td>\n",
              "      <td>0.007882</td>\n",
              "      <td>0.000895</td>\n",
              "      <td>7.930000</td>\n",
              "      <td>12.020000</td>\n",
              "      <td>50.410000</td>\n",
              "      <td>185.200000</td>\n",
              "      <td>0.071170</td>\n",
              "      <td>0.027290</td>\n",
              "      <td>0.000000</td>\n",
              "      <td>0.000000</td>\n",
              "      <td>0.156500</td>\n",
              "      <td>0.055040</td>\n",
              "    </tr>\n",
              "    <tr>\n",
              "      <th>25%</th>\n",
              "      <td>11.700000</td>\n",
              "      <td>16.170000</td>\n",
              "      <td>75.170000</td>\n",
              "      <td>420.300000</td>\n",
              "      <td>0.086370</td>\n",
              "      <td>0.064920</td>\n",
              "      <td>0.029560</td>\n",
              "      <td>0.020310</td>\n",
              "      <td>0.161900</td>\n",
              "      <td>0.057700</td>\n",
              "      <td>0.232400</td>\n",
              "      <td>0.833900</td>\n",
              "      <td>1.606000</td>\n",
              "      <td>17.850000</td>\n",
              "      <td>0.005169</td>\n",
              "      <td>0.013080</td>\n",
              "      <td>0.015090</td>\n",
              "      <td>0.007638</td>\n",
              "      <td>0.015160</td>\n",
              "      <td>0.002248</td>\n",
              "      <td>13.010000</td>\n",
              "      <td>21.080000</td>\n",
              "      <td>84.110000</td>\n",
              "      <td>515.300000</td>\n",
              "      <td>0.116600</td>\n",
              "      <td>0.147200</td>\n",
              "      <td>0.114500</td>\n",
              "      <td>0.064930</td>\n",
              "      <td>0.250400</td>\n",
              "      <td>0.071460</td>\n",
              "    </tr>\n",
              "    <tr>\n",
              "      <th>50%</th>\n",
              "      <td>13.370000</td>\n",
              "      <td>18.840000</td>\n",
              "      <td>86.240000</td>\n",
              "      <td>551.100000</td>\n",
              "      <td>0.095870</td>\n",
              "      <td>0.092630</td>\n",
              "      <td>0.061540</td>\n",
              "      <td>0.033500</td>\n",
              "      <td>0.179200</td>\n",
              "      <td>0.061540</td>\n",
              "      <td>0.324200</td>\n",
              "      <td>1.108000</td>\n",
              "      <td>2.287000</td>\n",
              "      <td>24.530000</td>\n",
              "      <td>0.006380</td>\n",
              "      <td>0.020450</td>\n",
              "      <td>0.025890</td>\n",
              "      <td>0.010930</td>\n",
              "      <td>0.018730</td>\n",
              "      <td>0.003187</td>\n",
              "      <td>14.970000</td>\n",
              "      <td>25.410000</td>\n",
              "      <td>97.660000</td>\n",
              "      <td>686.500000</td>\n",
              "      <td>0.131300</td>\n",
              "      <td>0.211900</td>\n",
              "      <td>0.226700</td>\n",
              "      <td>0.099930</td>\n",
              "      <td>0.282200</td>\n",
              "      <td>0.080040</td>\n",
              "    </tr>\n",
              "    <tr>\n",
              "      <th>75%</th>\n",
              "      <td>15.780000</td>\n",
              "      <td>21.800000</td>\n",
              "      <td>104.100000</td>\n",
              "      <td>782.700000</td>\n",
              "      <td>0.105300</td>\n",
              "      <td>0.130400</td>\n",
              "      <td>0.130700</td>\n",
              "      <td>0.074000</td>\n",
              "      <td>0.195700</td>\n",
              "      <td>0.066120</td>\n",
              "      <td>0.478900</td>\n",
              "      <td>1.474000</td>\n",
              "      <td>3.357000</td>\n",
              "      <td>45.190000</td>\n",
              "      <td>0.008146</td>\n",
              "      <td>0.032450</td>\n",
              "      <td>0.042050</td>\n",
              "      <td>0.014710</td>\n",
              "      <td>0.023480</td>\n",
              "      <td>0.004558</td>\n",
              "      <td>18.790000</td>\n",
              "      <td>29.720000</td>\n",
              "      <td>125.400000</td>\n",
              "      <td>1084.000000</td>\n",
              "      <td>0.146000</td>\n",
              "      <td>0.339100</td>\n",
              "      <td>0.382900</td>\n",
              "      <td>0.161400</td>\n",
              "      <td>0.317900</td>\n",
              "      <td>0.092080</td>\n",
              "    </tr>\n",
              "    <tr>\n",
              "      <th>max</th>\n",
              "      <td>28.110000</td>\n",
              "      <td>39.280000</td>\n",
              "      <td>188.500000</td>\n",
              "      <td>2501.000000</td>\n",
              "      <td>0.163400</td>\n",
              "      <td>0.345400</td>\n",
              "      <td>0.426800</td>\n",
              "      <td>0.201200</td>\n",
              "      <td>0.304000</td>\n",
              "      <td>0.097440</td>\n",
              "      <td>2.873000</td>\n",
              "      <td>4.885000</td>\n",
              "      <td>21.980000</td>\n",
              "      <td>542.200000</td>\n",
              "      <td>0.031130</td>\n",
              "      <td>0.135400</td>\n",
              "      <td>0.396000</td>\n",
              "      <td>0.052790</td>\n",
              "      <td>0.078950</td>\n",
              "      <td>0.029840</td>\n",
              "      <td>36.040000</td>\n",
              "      <td>49.540000</td>\n",
              "      <td>251.200000</td>\n",
              "      <td>4254.000000</td>\n",
              "      <td>0.222600</td>\n",
              "      <td>1.058000</td>\n",
              "      <td>1.252000</td>\n",
              "      <td>0.291000</td>\n",
              "      <td>0.663800</td>\n",
              "      <td>0.207500</td>\n",
              "    </tr>\n",
              "  </tbody>\n",
              "</table>\n",
              "</div>"
            ],
            "text/plain": [
              "       mean radius  mean texture  ...  worst symmetry  worst fractal dimension\n",
              "count   569.000000    569.000000  ...      569.000000               569.000000\n",
              "mean     14.127292     19.289649  ...        0.290076                 0.083946\n",
              "std       3.524049      4.301036  ...        0.061867                 0.018061\n",
              "min       6.981000      9.710000  ...        0.156500                 0.055040\n",
              "25%      11.700000     16.170000  ...        0.250400                 0.071460\n",
              "50%      13.370000     18.840000  ...        0.282200                 0.080040\n",
              "75%      15.780000     21.800000  ...        0.317900                 0.092080\n",
              "max      28.110000     39.280000  ...        0.663800                 0.207500\n",
              "\n",
              "[8 rows x 30 columns]"
            ]
          },
          "metadata": {
            "tags": []
          },
          "execution_count": 23
        }
      ]
    },
    {
      "cell_type": "code",
      "metadata": {
        "id": "ZCXnGNQHyRlj",
        "colab_type": "code",
        "colab": {
          "base_uri": "https://localhost:8080/",
          "height": 1000
        },
        "outputId": "81ffaad5-6c35-48b1-fe17-0213e83d686c"
      },
      "source": [
        "X.hist()"
      ],
      "execution_count": 26,
      "outputs": [
        {
          "output_type": "execute_result",
          "data": {
            "text/plain": [
              "array([[<matplotlib.axes._subplots.AxesSubplot object at 0x7fbbd31de2e8>,\n",
              "        <matplotlib.axes._subplots.AxesSubplot object at 0x7fbbd34da5f8>,\n",
              "        <matplotlib.axes._subplots.AxesSubplot object at 0x7fbbd30bb160>,\n",
              "        <matplotlib.axes._subplots.AxesSubplot object at 0x7fbbd30678d0>,\n",
              "        <matplotlib.axes._subplots.AxesSubplot object at 0x7fbbd3092278>],\n",
              "       [<matplotlib.axes._subplots.AxesSubplot object at 0x7fbbd3037be0>,\n",
              "        <matplotlib.axes._subplots.AxesSubplot object at 0x7fbbd2fe3588>,\n",
              "        <matplotlib.axes._subplots.AxesSubplot object at 0x7fbbd3009f28>,\n",
              "        <matplotlib.axes._subplots.AxesSubplot object at 0x7fbbd3009f60>,\n",
              "        <matplotlib.axes._subplots.AxesSubplot object at 0x7fbbd2f65240>],\n",
              "       [<matplotlib.axes._subplots.AxesSubplot object at 0x7fbbd2f8aba8>,\n",
              "        <matplotlib.axes._subplots.AxesSubplot object at 0x7fbbd2f38550>,\n",
              "        <matplotlib.axes._subplots.AxesSubplot object at 0x7fbbd2f5eeb8>,\n",
              "        <matplotlib.axes._subplots.AxesSubplot object at 0x7fbbd2f0d860>,\n",
              "        <matplotlib.axes._subplots.AxesSubplot object at 0x7fbbd2ebb208>],\n",
              "       [<matplotlib.axes._subplots.AxesSubplot object at 0x7fbbd2edfb70>,\n",
              "        <matplotlib.axes._subplots.AxesSubplot object at 0x7fbbd2e8e518>,\n",
              "        <matplotlib.axes._subplots.AxesSubplot object at 0x7fbbd2e36e80>,\n",
              "        <matplotlib.axes._subplots.AxesSubplot object at 0x7fbbd2de3828>,\n",
              "        <matplotlib.axes._subplots.AxesSubplot object at 0x7fbbd2e121d0>],\n",
              "       [<matplotlib.axes._subplots.AxesSubplot object at 0x7fbbd2db7b38>,\n",
              "        <matplotlib.axes._subplots.AxesSubplot object at 0x7fbbd2d664e0>,\n",
              "        <matplotlib.axes._subplots.AxesSubplot object at 0x7fbbd2d8de48>,\n",
              "        <matplotlib.axes._subplots.AxesSubplot object at 0x7fbbd2d3a7f0>,\n",
              "        <matplotlib.axes._subplots.AxesSubplot object at 0x7fbbd2ce8198>],\n",
              "       [<matplotlib.axes._subplots.AxesSubplot object at 0x7fbbd2d0db00>,\n",
              "        <matplotlib.axes._subplots.AxesSubplot object at 0x7fbbd2cbd4a8>,\n",
              "        <matplotlib.axes._subplots.AxesSubplot object at 0x7fbbd2c63e10>,\n",
              "        <matplotlib.axes._subplots.AxesSubplot object at 0x7fbbd2c907b8>,\n",
              "        <matplotlib.axes._subplots.AxesSubplot object at 0x7fbbd2c3f160>]],\n",
              "      dtype=object)"
            ]
          },
          "metadata": {
            "tags": []
          },
          "execution_count": 26
        },
        {
          "output_type": "display_data",
          "data": {
            "image/png": "[encoded data removed]",
            "text/plain": [
              "<Figure size 842.4x595.44 with 30 Axes>"
            ]
          },
          "metadata": {
            "tags": []
          }
        }
      ]
    },
    {
      "cell_type": "code",
      "metadata": {
        "id": "NgQ-gvySy0IF",
        "colab_type": "code",
        "colab": {
          "base_uri": "https://localhost:8080/",
          "height": 551
        },
        "outputId": "42447243-6022-40e7-886b-404fa2aa2323"
      },
      "source": [
        "y.hist()"
      ],
      "execution_count": 31,
      "outputs": [
        {
          "output_type": "execute_result",
          "data": {
            "text/plain": [
              "array([[<matplotlib.axes._subplots.AxesSubplot object at 0x7fbbd2708668>]],\n",
              "      dtype=object)"
            ]
          },
          "metadata": {
            "tags": []
          },
          "execution_count": 31
        },
        {
          "output_type": "display_data",
          "data": {
            "image/png": "[encoded data removed]",
            "text/plain": [
              "<Figure size 842.4x595.44 with 1 Axes>"
            ]
          },
          "metadata": {
            "tags": []
          }
        }
      ]
    },
    {
      "cell_type": "code",
      "metadata": {
        "id": "0lBdLhbl89V2",
        "colab_type": "code",
        "colab": {}
      },
      "source": [
        "validation_size = 0.20\n",
        "seed = 5\n",
        "X_train, X_validation, Y_train, Y_validation = train_test_split(X, y, test_size=validation_size, random_state=seed)\n",
        "# Test options and evaluation metric\n",
        "num_folds = 10\n",
        "scoring_list = ['accuracy','precision','recall','f1','roc_auc']"
      ],
      "execution_count": 0,
      "outputs": []
    },
    {
      "cell_type": "markdown",
      "metadata": {
        "id": "gkwMKijK-8Jq",
        "colab_type": "text"
      },
      "source": [
        "> - Linear Algorithms: Linear Regression (LR), Lasso Regression (LASSO) and ElasticNet\n",
        "(EN).\n",
        "> - Nonlinear Algorithms: Classiﬁcation and Regression Trees (CART), Support Vector\n",
        "Regression (SVR) and k-Nearest Neighbors (KNN)."
      ]
    },
    {
      "cell_type": "code",
      "metadata": {
        "id": "0igTnErd9Zlc",
        "colab_type": "code",
        "colab": {}
      },
      "source": [
        "# Standardize the dataset\n",
        "pipelines = []\n",
        "pipelines.append(('ScaledLR', Pipeline([('Scaler', StandardScaler()),('LR', LogisticRegression())])))\n",
        "pipelines.append(('ScaledLDA', Pipeline([('Scaler', StandardScaler()),('LDA', LinearDiscriminantAnalysis())])))\n",
        "pipelines.append(('ScaledKNN', Pipeline([('Scaler', StandardScaler()),('KNN', KNeighborsClassifier())])))\n",
        "pipelines.append(('ScaledCART', Pipeline([('Scaler', StandardScaler()),('CART', DecisionTreeClassifier())])))\n",
        "pipelines.append(('ScaledNB', Pipeline([('Scaler', StandardScaler()),('NB', GaussianNB())])))\n",
        "pipelines.append(('ScaledSVM', Pipeline([('Scaler', StandardScaler()),('SVM', SVC())])))\n",
        "results = []\n",
        "names = []\n",
        "error_msg=[]\n",
        "for name, model in pipelines:\n",
        "  kfold = KFold(n_splits=num_folds, random_state=seed)\n",
        "  for scoring in scoring_list:\n",
        "    cv_results = cross_val_score(model, X_train, Y_train, cv=kfold, scoring=scoring)\n",
        "    results.append(cv_results)\n",
        "    names.append(name)\n",
        "    error_msg.append(\"%s %s: %f (Standard Deviation: %f)\" % (name, scoring, cv_results.mean(), cv_results.std()))"
      ],
      "execution_count": 0,
      "outputs": []
    },
    {
      "cell_type": "code",
      "metadata": {
        "id": "QjxB11cT_0b0",
        "colab_type": "code",
        "colab": {
          "base_uri": "https://localhost:8080/",
          "height": 537
        },
        "outputId": "577192cb-fc65-46b7-d821-008484df9e4f"
      },
      "source": [
        "error_msg"
      ],
      "execution_count": 38,
      "outputs": [
        {
          "output_type": "execute_result",
          "data": {
            "text/plain": [
              "['ScaledLR accuracy: 0.980193 (Standard Deviation: 0.030328)',\n",
              " 'ScaledLR precision: 0.979040 (Standard Deviation: 0.042714)',\n",
              " 'ScaledLR recall: 0.990208 (Standard Deviation: 0.021124)',\n",
              " 'ScaledLR f1: 0.983996 (Standard Deviation: 0.025421)',\n",
              " 'ScaledLR roc_auc: 0.997966 (Standard Deviation: 0.003369)',\n",
              " 'ScaledLDA accuracy: 0.953816 (Standard Deviation: 0.041287)',\n",
              " 'ScaledLDA precision: 0.937664 (Standard Deviation: 0.063203)',\n",
              " 'ScaledLDA recall: 0.993636 (Standard Deviation: 0.012745)',\n",
              " 'ScaledLDA f1: 0.963578 (Standard Deviation: 0.033694)',\n",
              " 'ScaledLDA roc_auc: 0.990363 (Standard Deviation: 0.022707)',\n",
              " 'ScaledKNN accuracy: 0.964831 (Standard Deviation: 0.026381)',\n",
              " 'ScaledKNN precision: 0.958438 (Standard Deviation: 0.043197)',\n",
              " 'ScaledKNN recall: 0.987446 (Standard Deviation: 0.021455)',\n",
              " 'ScaledKNN f1: 0.971957 (Standard Deviation: 0.021884)',\n",
              " 'ScaledKNN roc_auc: 0.992380 (Standard Deviation: 0.014897)',\n",
              " 'ScaledCART accuracy: 0.905266 (Standard Deviation: 0.045470)',\n",
              " 'ScaledCART precision: 0.938068 (Standard Deviation: 0.063882)',\n",
              " 'ScaledCART recall: 0.941680 (Standard Deviation: 0.043199)',\n",
              " 'ScaledCART f1: 0.936063 (Standard Deviation: 0.019470)',\n",
              " 'ScaledCART roc_auc: 0.922605 (Standard Deviation: 0.033834)',\n",
              " 'ScaledNB accuracy: 0.927440 (Standard Deviation: 0.051504)',\n",
              " 'ScaledNB precision: 0.939591 (Standard Deviation: 0.078133)',\n",
              " 'ScaledNB recall: 0.950312 (Standard Deviation: 0.032249)',\n",
              " 'ScaledNB f1: 0.942750 (Standard Deviation: 0.042641)',\n",
              " 'ScaledNB roc_auc: 0.988783 (Standard Deviation: 0.010368)',\n",
              " 'ScaledSVM accuracy: 0.969227 (Standard Deviation: 0.035778)',\n",
              " 'ScaledSVM precision: 0.965179 (Standard Deviation: 0.049944)',\n",
              " 'ScaledSVM recall: 0.986970 (Standard Deviation: 0.030365)',\n",
              " 'ScaledSVM f1: 0.974986 (Standard Deviation: 0.029829)',\n",
              " 'ScaledSVM roc_auc: 0.997585 (Standard Deviation: 0.003980)']"
            ]
          },
          "metadata": {
            "tags": []
          },
          "execution_count": 38
        }
      ]
    },
    {
      "cell_type": "markdown",
      "metadata": {
        "id": "ySSFshX5Gkac",
        "colab_type": "text"
      },
      "source": [
        "Ensemble Methods\n",
        "> - Boosting Methods: AdaBoost (AB) and Gradient Boosting (GBM).\n",
        "> - Bagging Methods: Random Forests (RF) and Extra Trees (ET)."
      ]
    },
    {
      "cell_type": "code",
      "metadata": {
        "id": "iQVIEWPD_7ub",
        "colab_type": "code",
        "colab": {}
      },
      "source": [
        "ensembles = []\n",
        "ensembles.append(('ScaledAB', Pipeline([('Scaler', StandardScaler()),('AB', AdaBoostClassifier())])))\n",
        "ensembles.append(('ScaledGBM', Pipeline([('Scaler', StandardScaler()),('GBM', GradientBoostingClassifier())])))\n",
        "ensembles.append(('ScaledRF', Pipeline([('Scaler', StandardScaler()),('RF', RandomForestClassifier())])))\n",
        "ensembles.append(('ScaledET', Pipeline([('Scaler', StandardScaler()),('ET', ExtraTreesClassifier())])))\n",
        "results = []\n",
        "names = []\n",
        "error_msg_ensemble=[]\n",
        "for name, model in ensembles:\n",
        "  kfold = KFold(n_splits=num_folds, random_state=seed)\n",
        "  for scoring in scoring_list:\n",
        "    cv_results = cross_val_score(model, X_train, Y_train, cv=kfold, scoring=scoring)\n",
        "    results.append(cv_results)\n",
        "    names.append(name)\n",
        "    error_msg_ensemble.append(\"%s %s: %f (Standard Deviation: %f)\" % (name, scoring, cv_results.mean(), cv_results.std()))"
      ],
      "execution_count": 0,
      "outputs": []
    },
    {
      "cell_type": "code",
      "metadata": {
        "id": "rZy630BLG90q",
        "colab_type": "code",
        "colab": {
          "base_uri": "https://localhost:8080/",
          "height": 364
        },
        "outputId": "14579a60-010b-4978-b207-584cb2b10689"
      },
      "source": [
        "error_msg_ensemble"
      ],
      "execution_count": 40,
      "outputs": [
        {
          "output_type": "execute_result",
          "data": {
            "text/plain": [
              "['ScaledAB accuracy: 0.958068 (Standard Deviation: 0.043768)',\n",
              " 'ScaledAB precision: 0.949791 (Standard Deviation: 0.062242)',\n",
              " 'ScaledAB recall: 0.983191 (Standard Deviation: 0.021983)',\n",
              " 'ScaledAB f1: 0.964946 (Standard Deviation: 0.034925)',\n",
              " 'ScaledAB roc_auc: 0.991613 (Standard Deviation: 0.011722)',\n",
              " 'ScaledGBM accuracy: 0.949275 (Standard Deviation: 0.042286)',\n",
              " 'ScaledGBM precision: 0.955418 (Standard Deviation: 0.062527)',\n",
              " 'ScaledGBM recall: 0.965756 (Standard Deviation: 0.020750)',\n",
              " 'ScaledGBM f1: 0.966286 (Standard Deviation: 0.030022)',\n",
              " 'ScaledGBM roc_auc: 0.993878 (Standard Deviation: 0.008811)',\n",
              " 'ScaledRF accuracy: 0.942705 (Standard Deviation: 0.036171)',\n",
              " 'ScaledRF precision: 0.961442 (Standard Deviation: 0.054589)',\n",
              " 'ScaledRF recall: 0.967036 (Standard Deviation: 0.035486)',\n",
              " 'ScaledRF f1: 0.957831 (Standard Deviation: 0.037210)',\n",
              " 'ScaledRF roc_auc: 0.984906 (Standard Deviation: 0.019634)',\n",
              " 'ScaledET accuracy: 0.953720 (Standard Deviation: 0.037803)',\n",
              " 'ScaledET precision: 0.958169 (Standard Deviation: 0.054472)',\n",
              " 'ScaledET recall: 0.973709 (Standard Deviation: 0.031487)',\n",
              " 'ScaledET f1: 0.971734 (Standard Deviation: 0.022145)',\n",
              " 'ScaledET roc_auc: 0.989380 (Standard Deviation: 0.020544)']"
            ]
          },
          "metadata": {
            "tags": []
          },
          "execution_count": 40
        }
      ]
    },
    {
      "cell_type": "code",
      "metadata": {
        "id": "JoN47LD9HD9u",
        "colab_type": "code",
        "colab": {}
      },
      "source": [
        ""
      ],
      "execution_count": 0,
      "outputs": []
    }
  ]
}